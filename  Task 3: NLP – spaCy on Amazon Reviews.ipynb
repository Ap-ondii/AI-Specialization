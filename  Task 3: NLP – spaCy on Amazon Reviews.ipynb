{
  "nbformat": 4,
  "nbformat_minor": 0,
  "metadata": {
    "colab": {
      "provenance": [],
      "authorship_tag": "ABX9TyMZ5xD1Ka47VVsoyd9JbvRQ",
      "include_colab_link": true
    },
    "kernelspec": {
      "name": "python3",
      "display_name": "Python 3"
    },
    "language_info": {
      "name": "python"
    }
  },
  "cells": [
    {
      "cell_type": "markdown",
      "metadata": {
        "id": "view-in-github",
        "colab_type": "text"
      },
      "source": [
        "<a href=\"https://colab.research.google.com/github/Ap-ondii/AI-Specialization/blob/master/%20Task%203%3A%20NLP%20%E2%80%93%20spaCy%20on%20Amazon%20Reviews.ipynb\" target=\"_parent\"><img src=\"https://colab.research.google.com/assets/colab-badge.svg\" alt=\"Open In Colab\"/></a>"
      ]
    },
    {
      "cell_type": "code",
      "execution_count": 2,
      "metadata": {
        "id": "XKpQsU8yF9dm"
      },
      "outputs": [],
      "source": [
        "import spacy\n",
        "nlp = spacy.load(\"en_core_web_sm\")\n",
        "\n",
        "# Sample reviews (you can replace with real Amazon reviews)\n",
        "reviews = [\n",
        "    \"I love my new Apple iPhone 14! The camera quality is amazing.\",\n",
        "    \"Samsung's Galaxy Buds are decent, but not great for the price.\",\n",
        "    \"Avoid this product. Terrible quality from BrandX.\"\n",
        "]\n"
      ]
    },
    {
      "cell_type": "code",
      "source": [
        "# Rule-based sentiment keywords\n",
        "positive_words = [\"love\", \"amazing\", \"great\"]\n",
        "negative_words = [\"terrible\", \"avoid\", \"bad\"]"
      ],
      "metadata": {
        "id": "xIxaeZa2GDRX"
      },
      "execution_count": 3,
      "outputs": []
    },
    {
      "cell_type": "code",
      "source": [
        "# Run NER and sentiment analysis\n",
        "for review in reviews:\n",
        "    doc = nlp(review)\n",
        "    print(f\"\\nReview: {review}\")\n",
        "    print(\"Entities:\")\n",
        "    for ent in doc.ents:\n",
        "        print(f\" - {ent.text} ({ent.label_})\")\n",
        "\n",
        "    # Sentiment analysis\n",
        "    sentiment = \"Neutral\"\n",
        "    if any(word in review.lower() for word in positive_words):\n",
        "        sentiment = \"Positive\"\n",
        "    elif any(word in review.lower() for word in negative_words):\n",
        "        sentiment = \"Negative\"\n",
        "    print(f\"Sentiment: {sentiment}\")"
      ],
      "metadata": {
        "colab": {
          "base_uri": "https://localhost:8080/"
        },
        "id": "U0zbPT-MGS_a",
        "outputId": "daf7f8c4-f440-4c23-94d7-9750d28682b8"
      },
      "execution_count": 6,
      "outputs": [
        {
          "output_type": "stream",
          "name": "stdout",
          "text": [
            "\n",
            "Review: I love my new Apple iPhone 14! The camera quality is amazing.\n",
            "Entities:\n",
            " - Apple (ORG)\n",
            " - 14 (CARDINAL)\n",
            "Sentiment: Positive\n",
            "\n",
            "Review: Samsung's Galaxy Buds are decent, but not great for the price.\n",
            "Entities:\n",
            " - Samsung (ORG)\n",
            " - Galaxy Buds (PERSON)\n",
            "Sentiment: Positive\n",
            "\n",
            "Review: Avoid this product. Terrible quality from BrandX.\n",
            "Entities:\n",
            "Sentiment: Negative\n"
          ]
        }
      ]
    },
    {
      "cell_type": "code",
      "source": [
        "  sentiment = \"Neutral\"\n",
        "    if any(word in review.lower() for word in positive_words):\n",
        "        sentiment = \"Positive\"\n",
        "    elif any(word in review.lower() for word in negative_words):\n",
        "        sentiment = \"Negative\"\n",
        "    print(f\"Sentiment: {sentiment}\")"
      ],
      "metadata": {
        "colab": {
          "base_uri": "https://localhost:8080/",
          "height": 106
        },
        "id": "sYh-VYa1GVNp",
        "outputId": "95d02e3c-b17e-428c-a900-b392f73f5949"
      },
      "execution_count": 5,
      "outputs": [
        {
          "output_type": "error",
          "ename": "IndentationError",
          "evalue": "unexpected indent (ipython-input-5-1751236518.py, line 2)",
          "traceback": [
            "\u001b[0;36m  File \u001b[0;32m\"/tmp/ipython-input-5-1751236518.py\"\u001b[0;36m, line \u001b[0;32m2\u001b[0m\n\u001b[0;31m    if any(word in review.lower() for word in positive_words):\u001b[0m\n\u001b[0m    ^\u001b[0m\n\u001b[0;31mIndentationError\u001b[0m\u001b[0;31m:\u001b[0m unexpected indent\n"
          ]
        }
      ]
    },
    {
      "cell_type": "code",
      "source": [],
      "metadata": {
        "id": "BK14d-iyGENX"
      },
      "execution_count": null,
      "outputs": []
    }
  ]
}